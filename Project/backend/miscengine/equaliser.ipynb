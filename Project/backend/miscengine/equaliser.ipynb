{
 "cells": [
  {
   "cell_type": "markdown",
   "metadata": {},
   "source": [
    "# Equaliser Calculator\n",
    "\n",
    "Lets say you invested $x_1$ in a stock, holding $y$ of the stock.\n",
    "\n",
    "What if we invest a sum at $x_2$, where $x_2 < x_1$. Then what would be the average value of the stock."
   ]
  },
  {
   "cell_type": "code",
   "execution_count": 27,
   "metadata": {},
   "outputs": [],
   "source": [
    "import math\n",
    "\n",
    "class holdings:\n",
    "\n",
    "    def __init__(self, hold, price) -> None:\n",
    "        self.hold = hold # holdings\n",
    "        self.price = price # price the stock is bought at\n",
    "        self.mv = hold * price # original market value\n",
    "        print ({'成本': self.mv, '持股': self.hold, '平均价': self.price})\n",
    "\n",
    "    # Pump a specified market value at the new price, get average price\n",
    "    def equalise_mv(self, mv, price):\n",
    "        hold_delta = math.floor(mv/price) # This is the maximum number of stocks we may buy at the price with this market value\n",
    "        new_hold = self.hold + hold_delta\n",
    "        new_mv = hold_delta * price + self.mv\n",
    "        new_avg_price = new_mv/new_hold\n",
    "        pnl = new_hold * (price - new_avg_price)\n",
    "        return {'买入': hold_delta, '买入价': price, '收益与损失': round(pnl, 2), '市场价值': round(new_mv,2), '新持股': int(new_hold), '新平均价': round(new_avg_price,3)}\n",
    "\n",
    "    # Pump a specified holding at the new price, get average price\n",
    "    def equalise_hold(self, hold, price):\n",
    "        new_hold = self.hold + hold\n",
    "        new_mv = hold * price + self.mv\n",
    "        new_avg_price = new_mv/new_hold\n",
    "        pnl = new_hold * (price - new_avg_price)\n",
    "        return {'买入': hold, '买入价': price, '收益与损失': round(pnl, 2),'市场价值': round(new_mv,2), '新持股': int(new_hold), '新平均价': round(new_avg_price,3)}\n",
    "    \n",
    "    # Lock in buyin at the specified holdings and price\n",
    "    def buyin_hold(self, hold, price):\n",
    "        self.hold += hold\n",
    "        self.mv += hold*price\n",
    "        self.price = self.mv/self.hold"
   ]
  },
  {
   "cell_type": "code",
   "execution_count": 37,
   "metadata": {},
   "outputs": [
    {
     "name": "stdout",
     "output_type": "stream",
     "text": [
      "{'成本': 8688.0, '持股': 2400, '平均价': 3.62}\n",
      "{'买入': 5376, '买入价': 1.86, '收益与损失': -4224.0, '市场价值': 18687.36, '新持股': 7776, '新平均价': 2.403}\n",
      "{'买入': 8064, '买入价': 1.86, '收益与损失': -4224.0, '市场价值': 23687.04, '新持股': 10464, '新平均价': 2.264}\n"
     ]
    }
   ],
   "source": [
    "bbai = holdings(2400, 3.62)\n",
    "print(bbai.equalise_mv(10000, 1.86))\n",
    "print(bbai.equalise_mv(15000, 1.86))"
   ]
  },
  {
   "cell_type": "code",
   "execution_count": 36,
   "metadata": {},
   "outputs": [
    {
     "name": "stdout",
     "output_type": "stream",
     "text": [
      "{'成本': 10202.2, '持股': 580, '平均价': 17.59}\n",
      "{'买入': 975, '买入价': 10.25, '收益与损失': -4257.2, '市场价值': 20195.95, '新持股': 1555, '新平均价': 12.988}\n",
      "{'买入': 1460, '买入价': 10.27, '收益与损失': -4245.6, '市场价值': 25196.4, '新持股': 2040, '新平均价': 12.351}\n"
     ]
    }
   ],
   "source": [
    "sqqq = holdings(580, 17.59)\n",
    "print(sqqq.equalise_mv(10000, 10.25))\n",
    "print(sqqq.equalise_mv(15000, 10.27))"
   ]
  },
  {
   "cell_type": "code",
   "execution_count": null,
   "metadata": {},
   "outputs": [],
   "source": []
  }
 ],
 "metadata": {
  "kernelspec": {
   "display_name": "py311",
   "language": "python",
   "name": "python3"
  },
  "language_info": {
   "codemirror_mode": {
    "name": "ipython",
    "version": 3
   },
   "file_extension": ".py",
   "mimetype": "text/x-python",
   "name": "python",
   "nbconvert_exporter": "python",
   "pygments_lexer": "ipython3",
   "version": "3.11.7"
  }
 },
 "nbformat": 4,
 "nbformat_minor": 2
}
